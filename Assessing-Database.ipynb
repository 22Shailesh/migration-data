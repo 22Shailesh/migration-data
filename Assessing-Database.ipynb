{
 "cells": [
  {
   "cell_type": "markdown",
   "metadata": {},
   "source": [
    "## Assessing Database"
   ]
  },
  {
   "cell_type": "markdown",
   "metadata": {},
   "source": [
    "TUTORIAL: https://www.w3schools.com/python/python_mongodb_getstarted.asp"
   ]
  },
  {
   "cell_type": "code",
   "execution_count": 1,
   "metadata": {},
   "outputs": [],
   "source": [
    "import pymongo\n",
    "import json"
   ]
  },
  {
   "cell_type": "markdown",
   "metadata": {},
   "source": [
    "### Connect with remote Database"
   ]
  },
  {
   "cell_type": "code",
   "execution_count": 2,
   "metadata": {},
   "outputs": [],
   "source": [
    "user = 'npsclass2020'\n",
    "password = 'npsclass2020'\n",
    "database_name = 'migration'\n",
    "client = pymongo.MongoClient(\"mongodb+srv://\" + user + \":\" + password + \"@\" \\\n",
    "                                + \"cluster0-ui9hr.mongodb.net/\" + database_name + \"?retryWrites=true&w=majority\")"
   ]
  },
  {
   "cell_type": "code",
   "execution_count": 6,
   "metadata": {},
   "outputs": [],
   "source": [
    "db = client[\"migration2020\"]\n",
    "collection = db[\"members\"]"
   ]
  },
  {
   "cell_type": "code",
   "execution_count": 8,
   "metadata": {},
   "outputs": [
    {
     "data": {
      "text/plain": [
       "1000"
      ]
     },
     "execution_count": 8,
     "metadata": {},
     "output_type": "execute_result"
    }
   ],
   "source": [
    "db.members.estimated_document_count()"
   ]
  },
  {
   "cell_type": "markdown",
   "metadata": {},
   "source": [
    "#### Query"
   ]
  },
  {
   "cell_type": "code",
   "execution_count": 12,
   "metadata": {},
   "outputs": [
    {
     "name": "stdout",
     "output_type": "stream",
     "text": [
      "{'_id': ObjectId('5f37255532be840315862f96'), 'ID': '82Q6H2OCLB', 'age': 42, 'gender': 'male', 'profession': {'major': 'Arts, Design, Entertainment, Sports, and Media Occupations', 'branch': 'Interior Designers'}, 'interest': 'stories', 'home_address': {'province': 'PN1', 'district': 'Panchthar', 'MCP': 'Miklajung RM', 'ward': 'Ward 6'}, 'foreign_address': {'country': 'Aruba', 'ID': 'AW', 'lat': '12.52111', 'lon': '-69.968338', 'city': 'ORANJESTAD'}, 'date_out': '2015.2.12', 'date_return': '2019.3.9', 'fund2invest': {'invetsment sector': '8%', 'tourism and hospitality': '2%', 'animal husbandary': '6%', 'infrastructure': '8%', 'cottage industries': '6%', 'personal service business': '10%', 'retail business': '4%', 'consultancy service': '2%', 'alternative energy': '6%', 'agriculture': '8%', 'total_fund': 7109}, 'remittance': [{'month': 6, 'amount': 459}, {'month': 3, 'amount': 466}, {'month': 3, 'amount': 794}, {'month': 8, 'amount': 400}], 'travell': [{'date': '2017.11.7', 'place': {'country': 'Lithuania', 'city': 'Panevezhis'}}, {'date': '2015.1.26', 'place': {'country': 'Papua-New-Guinea', 'city': 'N'}}, {'date': '2019.7.5', 'place': {'country': 'Macedonia-[FYROM]', 'city': 'A'}}], 'social_work': [{'date': '2002.7.6', 'work': 'pollution control'}, {'date': '2012.1.15', 'work': 'workshop for young'}], 'personal_view': ['While all parties involved in the construction process have contributed to the current fiasco, one lesson is especially poignant as stakeholders take the next necessary steps to identify a new contractor: more thoughtful deliberation must factor into procurement decisions. A number of factors—including corruption, mismanagement, deviation from contract promises, sluggish cash flow, and a circular bout of finger pointing—has played into the current Melamchi saga. But tussles between contractors and government officials, often manifesting in contract terminations, have featured heavily in these delays.']}\n"
     ]
    }
   ],
   "source": [
    "x = db.members.find_one()\n",
    "print(x) "
   ]
  },
  {
   "cell_type": "code",
   "execution_count": 22,
   "metadata": {
    "scrolled": false
   },
   "outputs": [
    {
     "name": "stdout",
     "output_type": "stream",
     "text": [
      "881S65K6BB female [{'month': 7, 'amount': 280}, {'month': 3, 'amount': 625}, {'month': 4, 'amount': 683}, {'month': 11, 'amount': 685}, {'month': 9, 'amount': 661}, {'month': 8, 'amount': 775}]\n",
      "A90P68H341 female [{'month': 10, 'amount': 633}, {'month': 8, 'amount': 922}, {'month': 4, 'amount': 972}, {'month': 2, 'amount': 683}]\n",
      "R2OQ5K2SSC male [{'month': 1, 'amount': 215}, {'month': 4, 'amount': 994}, {'month': 8, 'amount': 685}]\n",
      "4B8434N8A9 female [{'month': 5, 'amount': 223}, {'month': 3, 'amount': 356}, {'month': 9, 'amount': 529}]\n",
      "Q55938YH16 female [{'month': 5, 'amount': 650}, {'month': 7, 'amount': 590}, {'month': 12, 'amount': 451}, {'month': 3, 'amount': 476}]\n",
      "I8X7I1Z757 female [{'month': 2, 'amount': 658}, {'month': 10, 'amount': 341}, {'month': 6, 'amount': 121}, {'month': 8, 'amount': 813}, {'month': 11, 'amount': 435}, {'month': 10, 'amount': 377}]\n",
      "W7LL2NK9NI male [{'month': 4, 'amount': 508}, {'month': 8, 'amount': 475}, {'month': 11, 'amount': 346}, {'month': 3, 'amount': 329}, {'month': 6, 'amount': 740}, {'month': 8, 'amount': 231}]\n",
      "8J398SF309 female [{'month': 4, 'amount': 383}, {'month': 3, 'amount': 687}, {'month': 6, 'amount': 842}, {'month': 8, 'amount': 842}]\n",
      "S2TL01722M male [{'month': 2, 'amount': 729}, {'month': 7, 'amount': 557}, {'month': 3, 'amount': 687}, {'month': 11, 'amount': 716}, {'month': 6, 'amount': 712}]\n",
      "KG908X485D male [{'month': 1, 'amount': 213}, {'month': 1, 'amount': 476}, {'month': 11, 'amount': 681}, {'month': 5, 'amount': 228}, {'month': 6, 'amount': 437}, {'month': 12, 'amount': 132}]\n",
      "6R1N82N980 female [{'month': 7, 'amount': 768}, {'month': 10, 'amount': 301}, {'month': 1, 'amount': 166}, {'month': 12, 'amount': 423}, {'month': 4, 'amount': 293}, {'month': 10, 'amount': 174}]\n",
      "KK5C9P1COO male [{'month': 9, 'amount': 297}, {'month': 4, 'amount': 229}, {'month': 4, 'amount': 938}]\n",
      "JC1YMVK28N female [{'month': 4, 'amount': 435}, {'month': 3, 'amount': 756}, {'month': 3, 'amount': 922}, {'month': 6, 'amount': 787}, {'month': 8, 'amount': 460}, {'month': 10, 'amount': 820}]\n",
      "DZ1A0VBE41 male [{'month': 5, 'amount': 429}, {'month': 6, 'amount': 619}, {'month': 11, 'amount': 636}, {'month': 10, 'amount': 941}]\n",
      "445RQZOKUL male [{'month': 11, 'amount': 901}, {'month': 3, 'amount': 242}, {'month': 3, 'amount': 913}, {'month': 12, 'amount': 590}, {'month': 10, 'amount': 559}, {'month': 12, 'amount': 357}]\n",
      "2WGOI3W7K8 female [{'month': 12, 'amount': 769}, {'month': 3, 'amount': 402}, {'month': 10, 'amount': 732}, {'month': 9, 'amount': 892}, {'month': 4, 'amount': 407}, {'month': 5, 'amount': 798}]\n",
      "LCDKDLG0Z7 male [{'month': 3, 'amount': 865}, {'month': 11, 'amount': 559}, {'month': 9, 'amount': 190}]\n",
      "JCU6B2L8Y4 female [{'month': 8, 'amount': 602}, {'month': 2, 'amount': 935}, {'month': 2, 'amount': 777}]\n",
      "99F5M17772 male [{'month': 12, 'amount': 473}, {'month': 4, 'amount': 640}, {'month': 4, 'amount': 960}, {'month': 10, 'amount': 108}, {'month': 10, 'amount': 335}, {'month': 2, 'amount': 942}]\n",
      "8VOF0567VE female [{'month': 2, 'amount': 721}, {'month': 3, 'amount': 622}, {'month': 4, 'amount': 557}, {'month': 2, 'amount': 396}, {'month': 11, 'amount': 642}]\n",
      "8L1DC4AFBV male [{'month': 2, 'amount': 843}, {'month': 4, 'amount': 800}, {'month': 1, 'amount': 583}]\n",
      "ZTEPGYWHI8 female [{'month': 1, 'amount': 448}, {'month': 2, 'amount': 416}, {'month': 5, 'amount': 172}, {'month': 6, 'amount': 440}]\n",
      "N7NHEU96M4 female [{'month': 4, 'amount': 154}, {'month': 12, 'amount': 162}, {'month': 5, 'amount': 759}, {'month': 8, 'amount': 468}, {'month': 8, 'amount': 674}]\n",
      "MTJ19X5KN6 male [{'month': 6, 'amount': 963}, {'month': 1, 'amount': 732}, {'month': 5, 'amount': 738}, {'month': 10, 'amount': 317}, {'month': 12, 'amount': 186}]\n",
      "08TXIADL27 female [{'month': 10, 'amount': 818}, {'month': 1, 'amount': 661}, {'month': 9, 'amount': 180}, {'month': 3, 'amount': 749}]\n",
      "J6MZZX4I64 male [{'month': 10, 'amount': 396}, {'month': 4, 'amount': 315}, {'month': 4, 'amount': 956}, {'month': 8, 'amount': 356}]\n",
      "7657GEAJ4Q female [{'month': 8, 'amount': 791}, {'month': 9, 'amount': 711}, {'month': 2, 'amount': 302}, {'month': 10, 'amount': 776}]\n",
      "KI364B2L16 male [{'month': 2, 'amount': 217}, {'month': 10, 'amount': 913}, {'month': 5, 'amount': 199}]\n",
      "DG42VVJ7D8 male [{'month': 2, 'amount': 495}, {'month': 2, 'amount': 751}, {'month': 1, 'amount': 872}, {'month': 10, 'amount': 984}, {'month': 2, 'amount': 443}, {'month': 4, 'amount': 650}]\n",
      "8JQ1KXLR63 male [{'month': 12, 'amount': 600}, {'month': 7, 'amount': 237}, {'month': 12, 'amount': 810}]\n",
      "W0KVQ6E6E4 female [{'month': 12, 'amount': 639}, {'month': 6, 'amount': 577}, {'month': 9, 'amount': 191}, {'month': 11, 'amount': 227}]\n",
      "RFZCNCP572 female [{'month': 3, 'amount': 485}, {'month': 2, 'amount': 407}, {'month': 9, 'amount': 543}]\n",
      "JAPVNC8A07 male [{'month': 10, 'amount': 642}, {'month': 6, 'amount': 435}, {'month': 11, 'amount': 840}]\n",
      "14LOEQQJU2 female [{'month': 7, 'amount': 501}, {'month': 6, 'amount': 945}, {'month': 1, 'amount': 835}]\n",
      "74I4QFB74K male [{'month': 3, 'amount': 956}, {'month': 3, 'amount': 185}, {'month': 10, 'amount': 565}]\n",
      "7PY3Y3V4GD female [{'month': 12, 'amount': 247}, {'month': 2, 'amount': 894}, {'month': 10, 'amount': 452}]\n",
      "M9LKC2B3F3 female [{'month': 3, 'amount': 538}, {'month': 2, 'amount': 581}, {'month': 6, 'amount': 931}, {'month': 5, 'amount': 839}, {'month': 3, 'amount': 876}]\n",
      "868NCCF7HB male [{'month': 1, 'amount': 511}, {'month': 9, 'amount': 119}, {'month': 10, 'amount': 986}, {'month': 7, 'amount': 507}, {'month': 1, 'amount': 970}]\n",
      "59G172SSYN male [{'month': 2, 'amount': 579}, {'month': 6, 'amount': 664}, {'month': 6, 'amount': 847}, {'month': 11, 'amount': 351}]\n"
     ]
    }
   ],
   "source": [
    "myquery = { \"age\": 40 }\n",
    "\n",
    "mydoc = db.members.find(myquery)\n",
    "\n",
    "for x in mydoc:\n",
    "      print(x['ID'],x['gender'],x['remittance']) "
   ]
  },
  {
   "cell_type": "code",
   "execution_count": 24,
   "metadata": {},
   "outputs": [
    {
     "name": "stdout",
     "output_type": "stream",
     "text": [
      "B1V87HGS4N female {'province': 'PN1', 'district': 'Taplejung', 'MCP': 'Sidingawa RM', 'ward': 'Ward 7'}\n",
      "4FD45LW045 female {'province': 'PN7', 'district': 'Baitadi', 'MCP': 'Sigas RM', 'ward': 'Ward 3'}\n",
      "XH6648FZ6G female {'province': 'PN7', 'district': 'Bajhang', 'MCP': 'Bithadchir RM', 'ward': 'Ward 2'}\n",
      "T76SZFY1Y6 female {'province': 'PN2', 'district': 'Parsa', 'MCP': 'Sakhuwa Prasouni RM', 'ward': 'Ward 4'}\n",
      "10IJ898996 female {'province': 'PN2', 'district': 'Siraha', 'MCP': 'Bishnupur RM', 'ward': 'Ward 5'}\n",
      "6XD449W9Q3 female {'province': 'PN5', 'district': 'Bardiya', 'MCP': 'Thakura Baba MCP', 'ward': 'Ward 2'}\n",
      "7Y20I9L3IB female {'province': 'PN4', 'district': 'Tanahun', 'MCP': 'Bandipur RM', 'ward': 'Ward 6'}\n",
      "MM2533XA32 female {'province': 'PN5', 'district': 'Dang', 'MCP': 'Gadhawa RM', 'ward': 'Ward 2'}\n",
      "JX22IS59WX female {'province': 'PN5', 'district': 'Pyuthan', 'MCP': 'Sarumarani RM', 'ward': 'Ward 3'}\n",
      "14ZV1W86CS female {'province': 'PN1', 'district': 'Ilam', 'MCP': 'Mai MCP', 'ward': 'Ward 2'}\n",
      "M0FOYK6QU7 female {'province': 'PN5', 'district': 'Arghakhanchi', 'MCP': 'Malarani RM', 'ward': 'Ward 2'}\n",
      "O2RTR44L30 female {'province': 'PN2', 'district': 'Mahottari', 'MCP': 'Bhangara RM', 'ward': 'Ward 8'}\n",
      "1J55GQOWZ8 female {'province': 'PN6', 'district': 'Surkhet', 'MCP': 'Lek Besi MCP', 'ward': 'Ward 3'}\n",
      "212KI6E6FM female {'province': 'PN5', 'district': 'Banke', 'MCP': 'Janaki RM', 'ward': 'Ward 4'}\n",
      "XO87CK18CN female {'province': 'PN6', 'district': 'Dolpa', 'MCP': 'She-Phoksundo RM', 'ward': 'Ward 3'}\n",
      "UKW30HK45Q female {'province': 'PN7', 'district': 'Achham', 'MCP': 'Panchdeval Binayak MCP', 'ward': 'Ward 6'}\n",
      "7O5RY80KZD female {'province': 'PN5', 'district': 'Rolpa', 'MCP': 'Sunchhahari RM', 'ward': 'Ward 2'}\n",
      "9E8682U977 female {'province': 'PN2', 'district': 'Rautahat', 'MCP': 'Phatuwa Bijayapur RM', 'ward': 'Ward 5'}\n",
      "64I86QNX51 female {'province': 'PN7', 'district': 'Kanchanpur', 'MCP': 'Beldandi RM', 'ward': 'Ward 3'}\n",
      "9A8AEQY923 female {'province': 'PN1', 'district': 'Taplejung', 'MCP': 'Sidingawa RM', 'ward': 'Ward 4'}\n"
     ]
    }
   ],
   "source": [
    "myquery = { \"age\": 30,\"gender\":'female' }\n",
    "\n",
    "mydoc = db.members.find(myquery)\n",
    "\n",
    "for x in mydoc:\n",
    "      print(x['ID'],x['gender'],x['home_address']) "
   ]
  },
  {
   "cell_type": "code",
   "execution_count": null,
   "metadata": {},
   "outputs": [],
   "source": []
  },
  {
   "cell_type": "code",
   "execution_count": null,
   "metadata": {},
   "outputs": [],
   "source": []
  },
  {
   "cell_type": "code",
   "execution_count": null,
   "metadata": {},
   "outputs": [],
   "source": []
  },
  {
   "cell_type": "code",
   "execution_count": null,
   "metadata": {},
   "outputs": [],
   "source": []
  },
  {
   "cell_type": "code",
   "execution_count": null,
   "metadata": {},
   "outputs": [],
   "source": []
  }
 ],
 "metadata": {
  "kernelspec": {
   "display_name": "Python 3",
   "language": "python",
   "name": "python3"
  },
  "language_info": {
   "codemirror_mode": {
    "name": "ipython",
    "version": 3
   },
   "file_extension": ".py",
   "mimetype": "text/x-python",
   "name": "python",
   "nbconvert_exporter": "python",
   "pygments_lexer": "ipython3",
   "version": "3.7.3"
  }
 },
 "nbformat": 4,
 "nbformat_minor": 2
}
